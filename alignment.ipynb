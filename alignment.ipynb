{
 "cells": [
  {
   "cell_type": "code",
   "execution_count": 10,
   "metadata": {},
   "outputs": [],
   "source": [
    "def stitch_images(image1, image2, xform, translation):\n",
    "  \"\"\"Stitch two matched images given the transformation between them.\n",
    "\n",
    "  Args:\n",
    "  - image1 (3D uint8 array): A color image.\n",
    "  - image2 (3D uint8 array): A color image.\n",
    "  - xform (2D float64 array): A 3x3 matrix representing the transformation\n",
    "      between image1 and image2. This transformation should map coordinates\n",
    "      in image1 to the corresponding coordinates in image2.\n",
    "\n",
    "  Returns:\n",
    "  - image_stitched (3D uint8 array)\n",
    "  \"\"\"\n",
    "  height1, width1, _ = image1.shape\n",
    "  height2, width2, _ = image2.shape\n",
    "\n",
    "  # Transformed 4 corners of image1\n",
    "  x1, y1, z1 = tuple(xform @ np.array([       0,         0, 1]).reshape(-1, 1))# + translation\n",
    "  x2, y2, z2 = tuple(xform @ np.array([width1-1,         0, 1]).reshape(-1, 1))# + translation\n",
    "  x3, y3, z3 = tuple(xform @ np.array([       0, height1-1, 1]).reshape(-1, 1))# + translation\n",
    "  x4, y4, z4 = tuple(xform @ np.array([width1-1, height1-1, 1]).reshape(-1, 1))# + translation\n",
    "\n",
    "  # Find appropriate size of stitched image\n",
    "  min_x = int(min(x1/z1, x2/z2, x3/z3, x4/z4, 0))\n",
    "  max_x = int(max(x1/z1, x2/z2, x3/z3, x4/z4, width2-1))\n",
    "  min_y = int(min(y1/z1, y2/z2, y3/z3, y4/z4, 0))\n",
    "  max_y = int(max(y1/z1, y2/z2, y3/z3, y4/z4, height2-1))\n",
    "\n",
    "  new_width = max_x - min_x + 1\n",
    "  new_height = max_y - min_y + 1\n",
    "\n",
    "  # Addtional translation for shifting images to fit in final stitched image\n",
    "#   translate = (np.array([[1, 0, -min_x], [0, 1, -min_y], [0, 0, 1]]) + translation).astype(np.float32)\n",
    "  translate = (np.array([[1, 0, -min_x], [0, 1, -min_y], [0, 0, 1]])).astype(np.float32)\n",
    "\n",
    "  image1_transformed = cv2.warpPerspective(image1, translate @ xform, (new_width, new_height))\n",
    "  image2_transformed = cv2.warpPerspective(image2, translate, (new_width, new_height))\n",
    "\n",
    "  image_stitched = cv2.addWeighted(image1_transformed, 0.5, image2_transformed, 0.5, 0)\n",
    "\n",
    "  return image_stitched\n",
    "\n"
   ]
  },
  {
   "cell_type": "code",
   "execution_count": 11,
   "metadata": {},
   "outputs": [],
   "source": [
    "import cv2\n",
    "import numpy as np\n",
    "import matplotlib.pyplot as plt"
   ]
  },
  {
   "cell_type": "code",
   "execution_count": 19,
   "metadata": {},
   "outputs": [],
   "source": [
    "img1 = cv2.imread(\"./export/out_1/d/frame_0100_d_1583869334951745986.png\", cv2.IMREAD_COLOR)\n",
    "img2 = cv2.imread(\"./export/out_1/rgb/frame_0100_rgb_1583869334953597453.png\", cv2.IMREAD_COLOR)\n",
    "img2 = cv2.applyColorMap(cv2.convertScaleAbs(img2, alpha=0.03), cv2.COLORMAP_JET)"
   ]
  },
  {
   "cell_type": "code",
   "execution_count": 20,
   "metadata": {},
   "outputs": [],
   "source": [
    "r = np.array([\n",
    "    [0.999994, 0.00334682, 0.000991736],\n",
    "    [-0.00334019, 0.999973, -0.00660826],\n",
    "    [-0.00101383, 0.0066049, 0.999978]\n",
    "    ])\n",
    "t = np.array([\n",
    "    [14.9153],\n",
    "    [-0.320785],\n",
    "    [-0.523442] \n",
    "    ])"
   ]
  },
  {
   "cell_type": "code",
   "execution_count": 21,
   "metadata": {},
   "outputs": [],
   "source": [
    "image_stitched = stitch_images(img2, img1, r, t)"
   ]
  },
  {
   "cell_type": "code",
   "execution_count": 22,
   "metadata": {},
   "outputs": [
    {
     "data": {
      "text/plain": [
       "True"
      ]
     },
     "execution_count": 22,
     "metadata": {},
     "output_type": "execute_result"
    }
   ],
   "source": [
    "# cv2.imshow('b',image_stitched)\n",
    "# cv2.show()\n",
    "cv2.imwrite('./meow.png', image_stitched)"
   ]
  },
  {
   "cell_type": "code",
   "execution_count": 23,
   "metadata": {},
   "outputs": [
    {
     "data": {
      "text/plain": [
       "(486, 1815, 3)"
      ]
     },
     "execution_count": 23,
     "metadata": {},
     "output_type": "execute_result"
    }
   ],
   "source": [
    "image_stitched.shape"
   ]
  },
  {
   "cell_type": "code",
   "execution_count": 17,
   "metadata": {},
   "outputs": [
    {
     "data": {
      "text/plain": [
       "(480, 640, 3)"
      ]
     },
     "execution_count": 17,
     "metadata": {},
     "output_type": "execute_result"
    }
   ],
   "source": [
    "img1.shape"
   ]
  },
  {
   "cell_type": "code",
   "execution_count": 18,
   "metadata": {},
   "outputs": [
    {
     "data": {
      "text/plain": [
       "(480, 640, 3)"
      ]
     },
     "execution_count": 18,
     "metadata": {},
     "output_type": "execute_result"
    }
   ],
   "source": [
    "img2.shape"
   ]
  },
  {
   "cell_type": "code",
   "execution_count": null,
   "metadata": {},
   "outputs": [],
   "source": []
  }
 ],
 "metadata": {
  "kernelspec": {
   "display_name": "Python 3",
   "language": "python",
   "name": "python3"
  },
  "language_info": {
   "codemirror_mode": {
    "name": "ipython",
    "version": 3
   },
   "file_extension": ".py",
   "mimetype": "text/x-python",
   "name": "python",
   "nbconvert_exporter": "python",
   "pygments_lexer": "ipython3",
   "version": "3.7.4"
  }
 },
 "nbformat": 4,
 "nbformat_minor": 4
}
